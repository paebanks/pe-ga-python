{
 "cells": [
  {
   "cell_type": "code",
   "execution_count": null,
   "metadata": {},
   "outputs": [],
   "source": [
    "#Truthy vs Falsey\n",
    "\n",
    "#some values are inherently true and some are false\n",
    "#the value 0 is Falsey\n",
    "#any positive interger is Truthy\n",
    "\n",
    "#the empty string is Falsey\n",
    "\n",
    "#None is Falsey\n",
    "\n",
    "#is the empty list truthy or falsey?\n",
    "#The empty list is falsey\n"
   ]
  },
  {
   "cell_type": "code",
   "execution_count": null,
   "metadata": {},
   "outputs": [],
   "source": [
    "#for conditionals, we use comparison operators\n",
    "\n",
    "# >\n",
    "# <\n",
    "# >= greater than or equal\n",
    "# <= less than or equal\n",
    "# == equality\n",
    "# != not equal\n"
   ]
  },
  {
   "cell_type": "code",
   "execution_count": 6,
   "metadata": {},
   "outputs": [
    {
     "name": "stdout",
     "output_type": "stream",
     "text": [
      "eligible to vote\n",
      "too far\n",
      "lets do something else\n",
      "loops\n"
     ]
    }
   ],
   "source": [
    "age = 19\n",
    "#print 'eligible to vote' if age is greater or equal 18\n",
    "if age >= 18:\n",
    "    print('eligible to vote')\n",
    "\n",
    "#print 'too far' if distance between (difference) city_one and city_two is greater than 10\n",
    "city_one = 45\n",
    "city_two = 56\n",
    "\n",
    "if city_two - city_one > 10:\n",
    "    print('too far')\n",
    "\n",
    "\n",
    "#else\n",
    "day_of_week = 'Wed'\n",
    "#print 'good day for python' if the day of week is Mon,\n",
    "#otherwise print 'lets do something else' \n",
    "if day_of_week == 'Mon':\n",
    "    print('good day for python')\n",
    "    print('we can do homework too!!')\n",
    "else:\n",
    "    print('lets do something else')\n",
    "\n",
    "\n",
    "#multiple options (elif)\n",
    "#Mon - 'if else'\n",
    "#Wed - 'loops' \n",
    "#Fri - 'homework'\n",
    "#any other day - 'Fun stuff woohoo!!'\n",
    "#  \n",
    "if day_of_week == 'Mon':\n",
    "    print(' if else')\n",
    "elif day_of_week == 'Wed':\n",
    "    print('loops')\n",
    "elif day_of_week == 'Fri':\n",
    "    print('homework')\n",
    "else:\n",
    "    print('fun stuf woohooo!!!')\n",
    "\n",
    "#here"
   ]
  },
  {
   "cell_type": "code",
   "execution_count": 9,
   "metadata": {},
   "outputs": [
    {
     "name": "stdout",
     "output_type": "stream",
     "text": [
      "None\n",
      "Go biking\n"
     ]
    }
   ],
   "source": [
    "#compound statements in our if\n",
    "\n",
    "#if it is a Monday and it is raining stay inside\n",
    "day_of_week = 'Mon'\n",
    "weather = 'sunny'\n",
    "action = None\n",
    "if day_of_week == 'Mon' and weather == 'rainy':\n",
    "    action = 'Stay Inside'\n",
    "\n",
    "print(action)\n",
    "\n",
    "#and - all conditions have to be true for the result to be true\n",
    "\n",
    "#a and b and c and d and e -> True if ALL are true\n",
    "# \n",
    "\n",
    "if day_of_week == 'Wed' or weather == 'sunny':\n",
    "    action = 'Go biking'\n",
    "\n",
    "print(action)\n",
    "\n"
   ]
  },
  {
   "cell_type": "code",
   "execution_count": 18,
   "metadata": {},
   "outputs": [
    {
     "name": "stdout",
     "output_type": "stream",
     "text": [
      "No vowel\n"
     ]
    }
   ],
   "source": [
    "#check if a character is a vowel\n",
    "letter_one = 'a' #True\n",
    "\n",
    "letter_two = 'i' #True\n",
    "\n",
    "letter_three = 'x' #False\n",
    "\n",
    "letter_four = 'u' #True\n",
    "\n",
    "test = letter_three\n",
    "\n",
    "# if test == 'a' or test == 'e' or test == 'i' or test == 'o' or test == 'u':\n",
    "#     print('It is a vowel')\n",
    "# else:\n",
    "#     print('No vowel')\n",
    "\n",
    "#use the 'in' operator to check for membership in a list or string\n",
    "\n",
    "vowels =  ['a', 'e', 'i', 'o', 'u', 'A', 'E', 'I', 'O', 'U']#'aeiouAEIOU'\n",
    "\n",
    "if test in vowels:\n",
    "    print('It is a vowel')\n",
    "else:\n",
    "    print('No vowel')\n",
    " \n",
    "\n",
    "\n",
    "\n",
    "\n"
   ]
  },
  {
   "cell_type": "code",
   "execution_count": 20,
   "metadata": {},
   "outputs": [
    {
     "name": "stdout",
     "output_type": "stream",
     "text": [
      "princeton\n"
     ]
    }
   ],
   "source": [
    "#user input from keyboard\n",
    "name = input('Type your name here: ')\n",
    "print(name)"
   ]
  },
  {
   "cell_type": "code",
   "execution_count": 22,
   "metadata": {},
   "outputs": [
    {
     "name": "stdout",
     "output_type": "stream",
     "text": [
      "10\n"
     ]
    }
   ],
   "source": [
    "#remember that all input from keyboard is string\n",
    "#if you are workig with numbers, convert to int or float\n",
    "number_one = int(input('Enter first number: '))\n",
    "number_two = int(input('Enter second number: '))\n",
    "print(number_one + number_two)"
   ]
  }
 ],
 "metadata": {
  "kernelspec": {
   "display_name": "Python 3.8.9 64-bit",
   "language": "python",
   "name": "python3"
  },
  "language_info": {
   "codemirror_mode": {
    "name": "ipython",
    "version": 3
   },
   "file_extension": ".py",
   "mimetype": "text/x-python",
   "name": "python",
   "nbconvert_exporter": "python",
   "pygments_lexer": "ipython3",
   "version": "3.8.9"
  },
  "orig_nbformat": 4,
  "vscode": {
   "interpreter": {
    "hash": "31f2aee4e71d21fbe5cf8b01ff0e069b9275f58929596ceb00d14d90e3e16cd6"
   }
  }
 },
 "nbformat": 4,
 "nbformat_minor": 2
}
