{
 "cells": [
  {
   "cell_type": "code",
   "execution_count": null,
   "metadata": {},
   "outputs": [],
   "source": [
    "string_1 = 'line'\n",
    "string_2 = 'text'\n",
    "\n",
    "#check if the two are equal, print 'they are the same' if they are\n",
    "#otherwise print 'they are not the same'\n",
    "\n",
    "population = 12000000\n",
    "area = 15000\n",
    "\n",
    "#if the population per area is greater than 20000\n",
    "#print, overpopulated\n",
    "#otherwise print underpopulated\n",
    "\n",
    "#check if a number is less than, greater, or equal to 55\n",
    "number = 55\n"
   ]
  },
  {
   "cell_type": "code",
   "execution_count": null,
   "metadata": {},
   "outputs": [],
   "source": [
    "#Challenge 1\n",
    "#check if a password is valid based on the following rules\n",
    "# at least one letter between[a-z] and at least one letter between [A-Z]\n",
    "# at least one number between [0-9]\n",
    "# at least one character from [$@#]\n",
    "# minimum length of 6 characters\n",
    "# maximum length of 16 characters\n",
    "\n",
    "\n"
   ]
  },
  {
   "cell_type": "code",
   "execution_count": 4,
   "metadata": {},
   "outputs": [
    {
     "name": "stdout",
     "output_type": "stream",
     "text": [
      "Yaaah, you are correct!!\n"
     ]
    }
   ],
   "source": [
    "#Challenge 2\n",
    "#prompt the user to enter a value between 1 and 10\n",
    "# compare the input with your secret number\n",
    "# if input if less that secret print 'too small'\n",
    "# if input if greater that secret print 'too big'\n",
    "#if its equal, print 'yaaah you are correct', then end\n",
    "\n",
    "secret_number = 7\n",
    "\n",
    "guess = int(input('Guess my secret number: '))\n",
    "\n",
    "if guess == secret_number:\n",
    "    print('Yaaah, you are correct!!')\n",
    "elif guess < secret_number:\n",
    "    print('too small')\n",
    "else:\n",
    "    print('too big')\n",
    "\n",
    "\n"
   ]
  },
  {
   "cell_type": "code",
   "execution_count": 6,
   "metadata": {},
   "outputs": [
    {
     "name": "stdout",
     "output_type": "stream",
     "text": [
      "1\n",
      "2\n",
      "fizz\n",
      "4\n",
      "buzz\n",
      "fizz\n",
      "7\n",
      "8\n",
      "fizz\n",
      "buzz\n",
      "11\n",
      "fizz\n",
      "13\n",
      "14\n",
      "fizzbuzz\n",
      "16\n",
      "17\n",
      "fizz\n",
      "19\n",
      "buzz\n",
      "fizz\n",
      "22\n",
      "23\n",
      "fizz\n",
      "buzz\n",
      "26\n",
      "fizz\n",
      "28\n",
      "29\n",
      "fizzbuzz\n",
      "31\n",
      "32\n",
      "fizz\n",
      "34\n",
      "buzz\n",
      "fizz\n",
      "37\n",
      "38\n",
      "fizz\n",
      "buzz\n",
      "41\n",
      "fizz\n",
      "43\n",
      "44\n",
      "fizzbuzz\n",
      "46\n",
      "47\n",
      "fizz\n",
      "49\n",
      "buzz\n"
     ]
    }
   ],
   "source": [
    "#fizzbuzz\n",
    "# if num is divisible by 3, print 'fizz' \n",
    "# if number is divisible by 5, print 'buzz' \n",
    "# if number is divisible by 15, print 'fizzbuzz' \n",
    "#otherwise just print the number\n",
    "\n",
    "#hint - the order if your if/elif statements is important\n",
    "\n",
    "\n",
    "for num in range(1, 51):\n",
    "    #your code here\n",
    "    if num % 15 == 0:\n",
    "        print('fizzbuzz')\n",
    "    elif num % 5 == 0:\n",
    "        print('buzz')\n",
    "    elif num % 3 == 0:\n",
    "        print('fizz')\n",
    "    else:\n",
    "        print(num)\n",
    "    \n",
    "    \n"
   ]
  }
 ],
 "metadata": {
  "kernelspec": {
   "display_name": "Python 3.8.9 64-bit",
   "language": "python",
   "name": "python3"
  },
  "language_info": {
   "codemirror_mode": {
    "name": "ipython",
    "version": 3
   },
   "file_extension": ".py",
   "mimetype": "text/x-python",
   "name": "python",
   "nbconvert_exporter": "python",
   "pygments_lexer": "ipython3",
   "version": "3.8.9"
  },
  "orig_nbformat": 4,
  "vscode": {
   "interpreter": {
    "hash": "31f2aee4e71d21fbe5cf8b01ff0e069b9275f58929596ceb00d14d90e3e16cd6"
   }
  }
 },
 "nbformat": 4,
 "nbformat_minor": 2
}
