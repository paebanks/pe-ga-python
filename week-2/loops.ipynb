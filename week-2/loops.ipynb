{
 "cells": [
  {
   "cell_type": "code",
   "execution_count": 3,
   "metadata": {},
   "outputs": [
    {
     "name": "stdout",
     "output_type": "stream",
     "text": [
      "7\n"
     ]
    }
   ],
   "source": [
    "#the for loop\n",
    "\n",
    "my_string = 'this is an arbitrary string'\n",
    "\n",
    "#how would we find the number of vowels in this string?\n",
    "\n",
    "\n",
    "#1. put vowels in a list and store it in a variable\n",
    "#2. iterate over the string, and check each letter in the string if it is in the list of vowels\n",
    "#3. we need another varible, so that each time one the letter is a vowel we add 1 to this variable\n",
    "#  \n",
    "\n",
    "vowels = ['a', 'e', 'i', 'o', 'u', 'A', 'E', 'I', 'O', 'U']\n",
    "vowel_count = 0\n",
    "for letter in my_string:\n",
    "    if letter in vowels:\n",
    "        vowel_count += 1\n",
    "\n",
    "print(vowel_count)\n",
    "\n",
    "    \n"
   ]
  },
  {
   "cell_type": "code",
   "execution_count": 6,
   "metadata": {},
   "outputs": [
    {
     "name": "stdout",
     "output_type": "stream",
     "text": [
      "found a zero!\n"
     ]
    }
   ],
   "source": [
    "#check if there is a zero in this list\n",
    "#if yes, print 'found a zero'\n",
    "#if no, print 'no zeros'\n",
    "is_zero_present =  False\n",
    "nums = [-1, -5, 4, 3, 7, 8, 0, -7]\n",
    "\n",
    "for num in nums:\n",
    "    if num == 0:\n",
    "        is_zero_present = True\n",
    "        print('found a zero!')\n",
    "    #else:\n",
    "    #    print('no a zero')\n",
    "\n",
    "#can you stop when you find a zero?\n",
    "\n"
   ]
  },
  {
   "cell_type": "code",
   "execution_count": 7,
   "metadata": {},
   "outputs": [
    {
     "name": "stdout",
     "output_type": "stream",
     "text": [
      "13\n"
     ]
    }
   ],
   "source": [
    "#print the first odd number in this list\n",
    "#hint: use break to end the loop when youve found an odd number\n",
    "my_nums = [0, 2, -6, -12, 13, 5, 24, 11, 3] # result is 13\n",
    "for num in my_nums:\n",
    "    if num % 2 == 1:\n",
    "        print(num)\n",
    "        break"
   ]
  },
  {
   "cell_type": "code",
   "execution_count": 9,
   "metadata": {},
   "outputs": [
    {
     "name": "stdout",
     "output_type": "stream",
     "text": [
      "51\n",
      "-8 59\n"
     ]
    }
   ],
   "source": [
    "#find the sum of all the numbers in this list\n",
    "temps = [-2, -5, -1, 0, 2, 5, 11, 7, 13, 21] #51\n",
    "total = 0\n",
    "for temp in temps:\n",
    "    total += temp\n",
    "\n",
    "print(total)\n",
    "\n",
    "\n",
    "#calculate two totals: total of the negative numbers, and total of the positive numbers\n",
    "positive_total = 0\n",
    "negative_total = 0\n",
    "\n",
    "for temp in temps:\n",
    "    #negative numbers\n",
    "    if temp < 0:\n",
    "        negative_total += temp\n",
    "    else:\n",
    "        positive_total += temp\n",
    "\n",
    "print(negative_total, positive_total)\n"
   ]
  },
  {
   "cell_type": "code",
   "execution_count": 12,
   "metadata": {},
   "outputs": [
    {
     "name": "stdout",
     "output_type": "stream",
     "text": [
      "Pythn s mzng\n"
     ]
    }
   ],
   "source": [
    "#create a new string from this string, with all the vowels removed\n",
    "\n",
    "string = 'Python is amazing' #Pythn s mzng\n",
    "new_string = ''\n",
    "for letter in string:\n",
    "    if letter not in vowels:\n",
    "        new_string += letter\n",
    "print(new_string)"
   ]
  },
  {
   "cell_type": "code",
   "execution_count": 13,
   "metadata": {},
   "outputs": [
    {
     "name": "stdout",
     "output_type": "stream",
     "text": [
      "3\n"
     ]
    }
   ],
   "source": [
    "#for loops using indeces\n",
    "\n",
    "#what if we want to know the index of a value in a list\n",
    "#what is the index of the first 7 in the list\n",
    "                     \n",
    "values = [-1, 5, 3, 7, 2, 8, 7, -11, 23] # 3\n",
    "\n",
    "#we need to use the range function\n",
    "first_seven_index = -1\n",
    "for idx in range( len(values) ):\n",
    "    if values[idx] == 7:\n",
    "        first_seven_index = idx\n",
    "        break\n",
    "\n",
    "print(first_seven_index)\n"
   ]
  },
  {
   "cell_type": "code",
   "execution_count": 14,
   "metadata": {},
   "outputs": [
    {
     "name": "stdout",
     "output_type": "stream",
     "text": [
      "[1, 5]\n"
     ]
    }
   ],
   "source": [
    "#challenge\n",
    "cities = ['Cancun', 'Cozumel', 'New Orleans', 'Montego Bay', 'Rio De Janeiro', 'Cozumel'] # [1, 5]\n",
    "\n",
    "#1. first find the positions of all the  'Cozumels' in the list,\n",
    "#2. store them in a new list \n",
    "#3. print the new list\n",
    "#3. replace them with 'Los Cabos'_\n",
    "cozumel_indexes = []\n",
    "for idx in range(len(cities)):\n",
    "    if cities[idx] == 'Cozumel':\n",
    "        cozumel_indexes.append(idx)\n",
    "\n",
    "print(cozumel_indexes)\n",
    "\n",
    "\n"
   ]
  },
  {
   "cell_type": "code",
   "execution_count": 4,
   "metadata": {},
   "outputs": [
    {
     "name": "stdout",
     "output_type": "stream",
     "text": [
      "0\n",
      "1\n",
      "2\n",
      "3\n",
      "4\n",
      "5\n",
      "6\n",
      "7\n",
      "8\n",
      "9\n"
     ]
    }
   ],
   "source": [
    "#while loops\n",
    "number = 1\n",
    "while number > 0:\n",
    "    print(number)\n",
    "    number += 1\n"
   ]
  },
  {
   "cell_type": "code",
   "execution_count": 5,
   "metadata": {},
   "outputs": [
    {
     "name": "stdout",
     "output_type": "stream",
     "text": [
      "not correct. guess again\n",
      "not correct. guess again\n",
      "not correct. guess again\n",
      "not correct. guess again\n",
      "not correct. guess again\n",
      "yaaah!! you are correct\n"
     ]
    }
   ],
   "source": [
    "#continuously ask for user input\n",
    "#prompt the user to guess a secret number\n",
    "#use random module to generate a random integer\n",
    "\n",
    "import random\n",
    "\n",
    "secret_number = random.randint(1, 10)\n",
    "\n",
    "guess = int(input('guess the secret number (its between 1 and 10): '))\n",
    "while guess != secret_number:\n",
    "    print('not correct. guess again')\n",
    "    guess = int(input('guess the secret number (its between 1 and 10): '))\n",
    "\n",
    "print('yaaah!! you are correct')"
   ]
  },
  {
   "cell_type": "code",
   "execution_count": 6,
   "metadata": {},
   "outputs": [
    {
     "name": "stdout",
     "output_type": "stream",
     "text": [
      "Not correct. Guess again\n",
      "Not correct. Guess again\n",
      "Not correct. Guess again\n",
      "Not correct. Guess again\n",
      "Not correct. Guess again\n",
      "Not correct. Guess again\n",
      "yaaah!! you are correct\n"
     ]
    }
   ],
   "source": [
    "#infinite loop, deliberately\n",
    "secret_number = random.randint(1, 10)\n",
    "while True:\n",
    "    guess = int(input('guess the secret number (its between 1 and 10): '))\n",
    "    if guess == secret_number:\n",
    "        print('yaaah!! you are correct')\n",
    "        break\n",
    "    else:\n",
    "        print('Not correct. Guess again')\n"
   ]
  }
 ],
 "metadata": {
  "kernelspec": {
   "display_name": "Python 3.8.9 64-bit",
   "language": "python",
   "name": "python3"
  },
  "language_info": {
   "codemirror_mode": {
    "name": "ipython",
    "version": 3
   },
   "file_extension": ".py",
   "mimetype": "text/x-python",
   "name": "python",
   "nbconvert_exporter": "python",
   "pygments_lexer": "ipython3",
   "version": "3.8.9"
  },
  "orig_nbformat": 4,
  "vscode": {
   "interpreter": {
    "hash": "31f2aee4e71d21fbe5cf8b01ff0e069b9275f58929596ceb00d14d90e3e16cd6"
   }
  }
 },
 "nbformat": 4,
 "nbformat_minor": 2
}
