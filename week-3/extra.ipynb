{
 "cells": [
  {
   "cell_type": "code",
   "execution_count": 4,
   "metadata": {},
   "outputs": [],
   "source": [
    "playlist = [\n",
    "    {\n",
    "        'title': 'Bodak Yellow',\n",
    "        'genre': 'Pop',\n",
    "        'artiste': 'Cardi B',\n",
    "        'year': '2017',\n",
    "        'length': 3.25\n",
    "    },\n",
    "    {\n",
    "        'title': 'Shake it Off',\n",
    "        'genre': 'Pop',\n",
    "        'artiste': 'Taylor Swift',\n",
    "        'year': '2016',\n",
    "        'length': 3.15\n",
    "    },\n",
    "    {\n",
    "        'title': 'Through the Night',\n",
    "        'genre': 'Pop',\n",
    "        'artiste': 'Travis Scott',\n",
    "        'year': '2016',\n",
    "        'length': 4.50\n",
    "    },\n",
    "    {\n",
    "        'title': 'Likes',\n",
    "        'genre': 'Reggae',\n",
    "        'artiste': 'Chronixx',\n",
    "        'year': '2017',\n",
    "        'length': 3.45\n",
    "    },\n",
    "    {\n",
    "        'title': 'From Time',\n",
    "        'genre': 'Pop',\n",
    "        'artiste': 'Drake, Jhene Aiko',\n",
    "        'year': '2013',\n",
    "        'length': 2.50\n",
    "    }\n",
    "]\n",
    "\n",
    "#use the playlist to write these functions\n",
    "\n",
    "#1. write a function that returns a list of the artists names\n",
    "\n",
    "#2. write a function that returns the title of longest running song\n",
    "\n",
    "#3. write a function that returns the total running time of the playlist\n",
    "\n",
    "\n",
    "def get_artist_names():\n",
    "    artist_names = []\n",
    "    for song in playlist:\n",
    "        artist_names.append(song['artiste'])\n",
    "    \n",
    "    return artist_names\n",
    "\n",
    "#get_artist_names()\n",
    "\n",
    "def get_longest_song():\n",
    "    longest_run_time = 0\n",
    "    longest_running_song = ''\n",
    "    for song in playlist:\n",
    "        if song['length'] > longest_run_time:\n",
    "            longest_run_time = song['length']\n",
    "            longest_running_song = song['title']\n",
    "\n",
    "    return longest_running_song\n",
    "\n",
    "\n",
    "get_longest_song()       \n",
    "\n",
    "\n",
    "\n",
    "\n"
   ]
  },
  {
   "cell_type": "code",
   "execution_count": 14,
   "metadata": {},
   "outputs": [
    {
     "name": "stdout",
     "output_type": "stream",
     "text": [
      "['1', '2', '3', '4', '5', '6', '7', '8', '9', '0']\n"
     ]
    }
   ],
   "source": [
    "#codewards https://www.codewars.com/kata/525f50e3b73515a6db000b83/train/python\n",
    "\n",
    "#input(s) list of integers, size 10 (0 - 9)\n",
    "\n",
    "#output - string in phone number format: (xxx) xxx-xxxx\n",
    "\n",
    "#1. create a variable to store the output\n",
    "#2. iterate over the list of numbers\n",
    "#2.1 add each item to our output string\n",
    "#3. add the extra characters to the correct positions in the string  \n",
    "\n",
    "\n",
    "def create_phone_number(n):\n",
    "    phone_number = '('\n",
    "    for idx in range(len(n)):\n",
    "        if idx == 3:\n",
    "            phone_number += ') '\n",
    "        if idx == 6:\n",
    "            phone_number += '-'\n",
    "        phone_number += str(n[idx])\n",
    "    \n",
    "\n",
    "create_phone_number([1, 2, 3, 4, 5, 6, 7, 8, 9, 0])\n",
    "\n"
   ]
  }
 ],
 "metadata": {
  "kernelspec": {
   "display_name": "Python 3.8.9 64-bit",
   "language": "python",
   "name": "python3"
  },
  "language_info": {
   "codemirror_mode": {
    "name": "ipython",
    "version": 3
   },
   "file_extension": ".py",
   "mimetype": "text/x-python",
   "name": "python",
   "nbconvert_exporter": "python",
   "pygments_lexer": "ipython3",
   "version": "3.8.9"
  },
  "orig_nbformat": 4,
  "vscode": {
   "interpreter": {
    "hash": "31f2aee4e71d21fbe5cf8b01ff0e069b9275f58929596ceb00d14d90e3e16cd6"
   }
  }
 },
 "nbformat": 4,
 "nbformat_minor": 2
}
