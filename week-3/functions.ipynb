{
 "cells": [
  {
   "cell_type": "code",
   "execution_count": 3,
   "metadata": {},
   "outputs": [
    {
     "name": "stdout",
     "output_type": "stream",
     "text": [
      "hello\n",
      "hello\n"
     ]
    }
   ],
   "source": [
    "#function definition\n",
    "def say_hello():\n",
    "    print('hello')\n",
    "\n",
    "#function call\n",
    "say_hello()\n",
    "say_hello()"
   ]
  },
  {
   "cell_type": "code",
   "execution_count": 5,
   "metadata": {},
   "outputs": [
    {
     "name": "stdout",
     "output_type": "stream",
     "text": [
      "hey there Princeton!\n",
      "hey there Enzo!\n"
     ]
    }
   ],
   "source": [
    "def say_hello_with_name(name):\n",
    "    print(f'hey there {name}!')\n",
    "\n",
    "say_hello_with_name('Princeton')\n",
    "say_hello_with_name('Enzo')"
   ]
  },
  {
   "cell_type": "code",
   "execution_count": 8,
   "metadata": {},
   "outputs": [
    {
     "data": {
      "text/plain": [
       "60"
      ]
     },
     "execution_count": 8,
     "metadata": {},
     "output_type": "execute_result"
    }
   ],
   "source": [
    "#functions most often return a value\n",
    "def add_two(num1, num2):\n",
    "    return num1 + num2\n",
    "\n",
    "\n",
    "add_two(add_two(10, 20), 30)\n"
   ]
  },
  {
   "cell_type": "code",
   "execution_count": 2,
   "metadata": {},
   "outputs": [
    {
     "data": {
      "text/plain": [
       "118"
      ]
     },
     "execution_count": 2,
     "metadata": {},
     "output_type": "execute_result"
    }
   ],
   "source": [
    "#write a function to return the sum of the numbers in a list\n",
    "def sum_list(a_list):\n",
    "    total = 0\n",
    "    for num in a_list:\n",
    "        total += num\n",
    "    \n",
    "    return total\n",
    "\n",
    "#sum_list([1, 2, 3 ,4, 5, 6, 7, 8, 9, 10])\n",
    "\n",
    "numbers = [-1, 5, 8, 7, 23, 45, -11, 15, 27]\n",
    "\n",
    "sum_list(numbers)  \n"
   ]
  },
  {
   "cell_type": "code",
   "execution_count": 6,
   "metadata": {},
   "outputs": [
    {
     "name": "stdout",
     "output_type": "stream",
     "text": [
      "False\n",
      "False\n",
      "True\n"
     ]
    }
   ],
   "source": [
    "#write a function that has two parameters: a string, and a character\n",
    "#the function must return True if the character is in the string, False otherwise\n",
    "\n",
    "def find_character(string, char):\n",
    "    if char in string:\n",
    "        return True\n",
    "    return False\n",
    "\n",
    "\n",
    "print(find_character('Panama', 'c'))\n",
    "\n",
    "print(find_character('Panama', 'p'))\n",
    "\n",
    "print(find_character('Panama', 'P'))\n",
    "\n",
    "\n",
    "#functions that return boolean values are often named with `is` or `has`\n",
    "# as a prefix\n"
   ]
  },
  {
   "cell_type": "code",
   "execution_count": 7,
   "metadata": {},
   "outputs": [
    {
     "data": {
      "text/plain": [
       "[-1, -11, -1, -1]"
      ]
     },
     "execution_count": 7,
     "metadata": {},
     "output_type": "execute_result"
    }
   ],
   "source": [
    "#write a function that takes a list of numbers and returns a new list\n",
    "#with only the negative numbers. if there are no negative numbers \n",
    "#in the input list, we should return an empty list\n",
    "\n",
    "def get_negatives(a_list):\n",
    "    negatives = []\n",
    "    for num in a_list:\n",
    "        if num < 0:\n",
    "            negatives.append(num)\n",
    "    \n",
    "    return negatives\n",
    "\n",
    "get_negatives([-1, -11, 23,4, 50, 100, -1, -1])\n"
   ]
  },
  {
   "cell_type": "code",
   "execution_count": 10,
   "metadata": {},
   "outputs": [
    {
     "name": "stdout",
     "output_type": "stream",
     "text": [
      "10\n",
      "30\n"
     ]
    },
    {
     "ename": "TypeError",
     "evalue": "unsupported operand type(s) for +=: 'int' and 'str'",
     "output_type": "error",
     "traceback": [
      "\u001b[0;31m---------------------------------------------------------------------------\u001b[0m",
      "\u001b[0;31mTypeError\u001b[0m                                 Traceback (most recent call last)",
      "\u001b[1;32m/Users/princetone/pyth-15/week-3/functions.ipynb Cell 7'\u001b[0m in \u001b[0;36m<cell line: 14>\u001b[0;34m()\u001b[0m\n\u001b[1;32m     <a href='vscode-notebook-cell:/Users/princetone/pyth-15/week-3/functions.ipynb#ch0000006?line=11'>12</a>\u001b[0m \u001b[39mprint\u001b[39m(add(\u001b[39m10\u001b[39m))\n\u001b[1;32m     <a href='vscode-notebook-cell:/Users/princetone/pyth-15/week-3/functions.ipynb#ch0000006?line=12'>13</a>\u001b[0m \u001b[39mprint\u001b[39m(add(\u001b[39m10\u001b[39m, \u001b[39m20\u001b[39m))\n\u001b[0;32m---> <a href='vscode-notebook-cell:/Users/princetone/pyth-15/week-3/functions.ipynb#ch0000006?line=13'>14</a>\u001b[0m \u001b[39mprint\u001b[39m(add(\u001b[39m10\u001b[39;49m, \u001b[39m20\u001b[39;49m, \u001b[39m30\u001b[39;49m, \u001b[39m40\u001b[39;49m, \u001b[39m'\u001b[39;49m\u001b[39mer\u001b[39;49m\u001b[39m'\u001b[39;49m))\n",
      "\u001b[1;32m/Users/princetone/pyth-15/week-3/functions.ipynb Cell 7'\u001b[0m in \u001b[0;36madd\u001b[0;34m(*args)\u001b[0m\n\u001b[1;32m      <a href='vscode-notebook-cell:/Users/princetone/pyth-15/week-3/functions.ipynb#ch0000006?line=4'>5</a>\u001b[0m total \u001b[39m=\u001b[39m \u001b[39m0\u001b[39m\n\u001b[1;32m      <a href='vscode-notebook-cell:/Users/princetone/pyth-15/week-3/functions.ipynb#ch0000006?line=5'>6</a>\u001b[0m \u001b[39mfor\u001b[39;00m item \u001b[39min\u001b[39;00m args:\n\u001b[0;32m----> <a href='vscode-notebook-cell:/Users/princetone/pyth-15/week-3/functions.ipynb#ch0000006?line=6'>7</a>\u001b[0m     total \u001b[39m+\u001b[39m\u001b[39m=\u001b[39m item\n\u001b[1;32m      <a href='vscode-notebook-cell:/Users/princetone/pyth-15/week-3/functions.ipynb#ch0000006?line=8'>9</a>\u001b[0m \u001b[39mreturn\u001b[39;00m total\n",
      "\u001b[0;31mTypeError\u001b[0m: unsupported operand type(s) for +=: 'int' and 'str'"
     ]
    }
   ],
   "source": [
    "\n",
    "\n",
    "#how do we write functions that can accept any number of arguments?\n",
    "\n",
    "#use *args\n",
    "def add(*args):\n",
    "    total = 0\n",
    "    for item in args:\n",
    "        total += item\n",
    "    \n",
    "    return total\n",
    "\n",
    "add()\n",
    "print(add(10))\n",
    "print(add(10, 20))\n",
    "print(add(10, 20, 30, 40))"
   ]
  },
  {
   "cell_type": "code",
   "execution_count": 7,
   "metadata": {},
   "outputs": [
    {
     "name": "stdout",
     "output_type": "stream",
     "text": [
      "x = 0.5 y = -20\n"
     ]
    }
   ],
   "source": [
    "#positional vs keyword arguments\n",
    "\n",
    "# a and b are positional arguments\n",
    "def func(a, b):\n",
    "    print(f'a = {a}, b = {b}')\n",
    "\n",
    "#func(10, 20)\n",
    "\n",
    "\n",
    "#we can define functions and then call them with arguments in any order ... if they are keyword arguments\n",
    "\n",
    "# x any y are keyword arguments. They are also default arguments\n",
    "def bar(x = 0, y = 0):\n",
    "    print(f'x = {x} y = {y}')\n",
    "\n",
    "bar(y = -20, x = 0.5)\n"
   ]
  },
  {
   "cell_type": "code",
   "execution_count": 5,
   "metadata": {},
   "outputs": [
    {
     "name": "stdout",
     "output_type": "stream",
     "text": [
      "Princeton-Ebanks Hello world\n"
     ]
    }
   ],
   "source": [
    "first_name = 'Princeton'\n",
    "last_name = 'Ebanks'\n",
    "print(first_name, last_name, sep=\"-\", end=\" \")\n",
    "print('Hello world')"
   ]
  },
  {
   "cell_type": "code",
   "execution_count": 11,
   "metadata": {},
   "outputs": [
    {
     "name": "stdout",
     "output_type": "stream",
     "text": [
      "John\n",
      "your hobbies are:  Skiing, \n",
      "city = Toronto\n",
      "age = 30\n"
     ]
    }
   ],
   "source": [
    "#if we have positional, variable args and keyword args..\n",
    "#positional args MUST go first\n",
    "#variable args nexxt\n",
    "#keyword args last\n",
    "\n",
    "def baz(name, *args, **kwargs):\n",
    "    print(name)\n",
    "    \n",
    "    hobbies = ''\n",
    "    for item in args:\n",
    "        hobbies += item + ', '\n",
    "    \n",
    "    print('your hobbies are: ', hobbies)\n",
    "\n",
    "    for key in kwargs:\n",
    "        print(f'{key} = {kwargs[key]}')\n",
    "\n",
    "#baz('Princeton', 'Chess', 'Writing', 'Surfing')\n",
    "\n",
    "baz('John', 'Skiing', city='Toronto', age=30)"
   ]
  },
  {
   "cell_type": "code",
   "execution_count": 12,
   "metadata": {},
   "outputs": [],
   "source": [
    "#lambda functions\n",
    "#single lines, we dont need to call them repeatedly (onyl once)\n",
    "\n",
    "#def add(a, b):\n",
    "#    return a + b\n",
    "\n",
    "#as a lambda function\n",
    "add = lambda a, b : a + b\n"
   ]
  },
  {
   "cell_type": "code",
   "execution_count": 20,
   "metadata": {},
   "outputs": [
    {
     "name": "stdout",
     "output_type": "stream",
     "text": [
      "[{'title': 'Through the Night', 'genre': 'Pop', 'artiste': 'Travis Scott', 'year': '2016', 'length': 4.5}, {'title': 'Likes', 'genre': 'Reggae', 'artiste': 'Chronixx', 'year': '2017', 'length': 3.45}, {'title': 'Bodak Yellow', 'genre': 'Pop', 'artiste': 'Cardi B', 'year': '2017', 'length': 3.25}, {'title': 'Shake it Off', 'genre': 'Pop', 'artiste': 'Taylor Swift', 'year': '2016', 'length': 3.15}, {'title': 'From Time', 'genre': 'Pop', 'artiste': 'Drake, Jhene Aiko', 'year': '2013', 'length': 2.5}]\n"
     ]
    }
   ],
   "source": [
    "playlist = [\n",
    "    {\n",
    "        'title': 'Bodak Yellow',\n",
    "        'genre': 'Pop',\n",
    "        'artiste': 'Cardi B',\n",
    "        'year': '2017',\n",
    "        'length': 3.25\n",
    "    },\n",
    "    {\n",
    "        'title': 'Shake it Off',\n",
    "        'genre': 'Pop',\n",
    "        'artiste': 'Taylor Swift',\n",
    "        'year': '2016',\n",
    "        'length': 3.15\n",
    "    },\n",
    "    {\n",
    "        'title': 'Through the Night',\n",
    "        'genre': 'Pop',\n",
    "        'artiste': 'Travis Scott',\n",
    "        'year': '2016',\n",
    "        'length': 4.50\n",
    "    },\n",
    "    {\n",
    "        'title': 'Likes',\n",
    "        'genre': 'Reggae',\n",
    "        'artiste': 'Chronixx',\n",
    "        'year': '2017',\n",
    "        'length': 3.45\n",
    "    },\n",
    "    {\n",
    "        'title': 'From Time',\n",
    "        'genre': 'Pop',\n",
    "        'artiste': 'Drake, Jhene Aiko',\n",
    "        'year': '2013',\n",
    "        'length': 2.50\n",
    "    }\n",
    "]\n",
    "\n",
    "\n",
    "#what if we want to sort this playlist\n",
    "\n",
    "          \n",
    "                                                   \n",
    "nums = [-10, 0, 1, 4, 5, 11, 13, 25, 2, 57]\n",
    "\n",
    "#print(sorted(nums, reverse=True))\n",
    "movies = ['Pirates of the Caribbean', 'Captain America: Civil War']\n",
    "\n",
    "#print(sorted(movies))\n",
    "print(sorted(playlist, key=lambda song : song['length'], reverse = True))\n",
    "     \n",
    "                                    \n",
    "people = [{'name': 'A','age': 25},   {'name': 'B','age': 4}]\n",
    "\n",
    "\n"
   ]
  }
 ],
 "metadata": {
  "kernelspec": {
   "display_name": "Python 3.8.9 64-bit",
   "language": "python",
   "name": "python3"
  },
  "language_info": {
   "codemirror_mode": {
    "name": "ipython",
    "version": 3
   },
   "file_extension": ".py",
   "mimetype": "text/x-python",
   "name": "python",
   "nbconvert_exporter": "python",
   "pygments_lexer": "ipython3",
   "version": "3.8.9"
  },
  "orig_nbformat": 4,
  "vscode": {
   "interpreter": {
    "hash": "31f2aee4e71d21fbe5cf8b01ff0e069b9275f58929596ceb00d14d90e3e16cd6"
   }
  }
 },
 "nbformat": 4,
 "nbformat_minor": 2
}
