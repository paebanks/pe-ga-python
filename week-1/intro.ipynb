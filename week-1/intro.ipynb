{
 "cells": [
  {
   "cell_type": "code",
   "execution_count": 1,
   "metadata": {},
   "outputs": [
    {
     "name": "stdout",
     "output_type": "stream",
     "text": [
      "hello world\n"
     ]
    }
   ],
   "source": [
    "print('hello world')\n"
   ]
  },
  {
   "cell_type": "code",
   "execution_count": 1,
   "metadata": {},
   "outputs": [
    {
     "name": "stdout",
     "output_type": "stream",
     "text": [
      "35\n",
      "-15\n",
      "250\n",
      "3.3333333333333335\n",
      "2.0\n",
      "3\n",
      "2\n",
      "2.15\n",
      "2.35\n"
     ]
    }
   ],
   "source": [
    "#variables\n",
    "first_name = 'Princeton' #string\n",
    "\n",
    "other_string = '12' #string\n",
    "\n",
    "age = 44 #integer\n",
    "\n",
    "has_yachts = False #boolean (True, False)\n",
    "\n",
    "price_of_gas = 2.11 #float \n",
    "\n",
    "last_name = 'Ebanks'\n",
    "\n",
    "#print your full name\n",
    "#print(first_name, last_name)\n",
    "\n",
    "#print(first_name + ' ' + last_name) #string concatenation\n",
    "\n",
    "full_name =  first_name + ' ' + last_name\n",
    "\n",
    "#hello world, my name is [full_name] and I am [age] years old\n",
    "#print('hello world, my name is ' + full_name + ' and I am ' + str(age) + ' years old')\n",
    "\n",
    "#string interpolation\n",
    "#print(f'Hello world, my name is {full_name} and I am {age} years old')\n",
    "\n",
    "val = None #NoneType\n",
    "\n",
    "#arithmetic operators\n",
    "\n",
    "a = 10\n",
    "b = 25\n",
    "c = 3\n",
    "d = 5\n",
    "\n",
    "print( a + b)\n",
    "print(a - b)\n",
    "print(a * b)\n",
    "print(a / c) #result is always a float\n",
    "print(a / d)\n",
    "print(a // c)\n",
    "print(a // d)\n",
    "\n",
    "#updating a variable\n",
    " \n",
    "current_age = 30\n",
    "\n",
    "current_age = current_age + 1 #updates current_age\n",
    "\n",
    "current_age += 1 #increment age\n",
    "\n",
    "price_of_gas = 2.15\n",
    "print(price_of_gas)\n",
    "#gas goes up by 20 cents\n",
    "price_of_gas += 0.2\n",
    "print(price_of_gas)\n",
    "\n",
    "\n",
    "# -=\n",
    "# *=\n",
    "# /=\n",
    "\n",
    "\n",
    "\n",
    "\n",
    "\n",
    "\n",
    "\n",
    "\n"
   ]
  }
 ],
 "metadata": {
  "interpreter": {
   "hash": "31f2aee4e71d21fbe5cf8b01ff0e069b9275f58929596ceb00d14d90e3e16cd6"
  },
  "kernelspec": {
   "display_name": "Python 3.8.9 64-bit",
   "language": "python",
   "name": "python3"
  },
  "language_info": {
   "codemirror_mode": {
    "name": "ipython",
    "version": 3
   },
   "file_extension": ".py",
   "mimetype": "text/x-python",
   "name": "python",
   "nbconvert_exporter": "python",
   "pygments_lexer": "ipython3",
   "version": "3.8.9"
  },
  "orig_nbformat": 4
 },
 "nbformat": 4,
 "nbformat_minor": 2
}
